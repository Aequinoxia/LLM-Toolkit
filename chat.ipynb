{
 "cells": [
  {
   "cell_type": "code",
   "execution_count": null,
   "id": "5758eccc-01aa-419e-a0b5-63e0d04ca461",
   "metadata": {},
   "outputs": [],
   "source": [
    "from manager import ChatManager\n",
    "\n",
    "cm = ChatManager('spark')"
   ]
  },
  {
   "cell_type": "markdown",
   "id": "55d46fd7-1161-4caf-b191-f36f96b6856b",
   "metadata": {},
   "source": [
    "## 工作区"
   ]
  },
  {
   "cell_type": "code",
   "execution_count": null,
   "id": "890f01d9-87dd-4527-86ea-4a72ef09bf81",
   "metadata": {},
   "outputs": [],
   "source": [
    "prompt = \"\"\"\n",
    "\"\"\"\n",
    "\n",
    "cm.chat(prompt, start_new=1)"
   ]
  },
  {
   "cell_type": "code",
   "execution_count": null,
   "id": "4dccea2e-b4cf-46f3-979f-fd35fd80cd34",
   "metadata": {},
   "outputs": [],
   "source": [
    "cm.delete_last_qa()"
   ]
  },
  {
   "cell_type": "code",
   "execution_count": null,
   "id": "de8662e7-7c95-4852-be4d-25d81127645b",
   "metadata": {},
   "outputs": [],
   "source": [
    "cm.switch_dialog(10)"
   ]
  },
  {
   "cell_type": "code",
   "execution_count": null,
   "id": "1c4d6c12-57c8-4cbe-ad3d-a82680131897",
   "metadata": {},
   "outputs": [],
   "source": [
    "from prompts.manager import CustomPrompt\n",
    "\n",
    "CustomPrompt().display_all_templates()"
   ]
  },
  {
   "cell_type": "markdown",
   "id": "1480c474-04eb-4b6b-b80d-ab0aa5e097a6",
   "metadata": {},
   "source": [
    "## 草稿纸"
   ]
  },
  {
   "cell_type": "code",
   "execution_count": null,
   "id": "3c6ffcc1-c11b-4f84-9791-3c03bf218171",
   "metadata": {},
   "outputs": [],
   "source": []
  }
 ],
 "metadata": {
  "kernelspec": {
   "display_name": "Python 3 (ipykernel)",
   "language": "python",
   "name": "python3"
  },
  "language_info": {
   "codemirror_mode": {
    "name": "ipython",
    "version": 3
   },
   "file_extension": ".py",
   "mimetype": "text/x-python",
   "name": "python",
   "nbconvert_exporter": "python",
   "pygments_lexer": "ipython3",
   "version": "3.10.12"
  }
 },
 "nbformat": 4,
 "nbformat_minor": 5
}
