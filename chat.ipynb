{
 "cells": [
  {
   "cell_type": "code",
   "execution_count": 3,
   "id": "5758eccc-01aa-419e-a0b5-63e0d04ca461",
   "metadata": {},
   "outputs": [],
   "source": [
    "from manager import ChatManager\n",
    "\n",
    "cm = ChatManager('spark')"
   ]
  },
  {
   "cell_type": "markdown",
   "id": "55d46fd7-1161-4caf-b191-f36f96b6856b",
   "metadata": {},
   "source": [
    "## 工作区"
   ]
  },
  {
   "cell_type": "code",
   "execution_count": 7,
   "id": "890f01d9-87dd-4527-86ea-4a72ef09bf81",
   "metadata": {},
   "outputs": [
    {
     "data": {
      "text/markdown": [
       "## 【Query】"
      ],
      "text/plain": [
       "<IPython.core.display.Markdown object>"
      ]
     },
     "metadata": {},
     "output_type": "display_data"
    },
    {
     "data": {
      "text/markdown": [
       "支持自定义prompt模板\n",
       "\n",
       "\n",
       "请你站在以英文为母语的编程专家的视角，帮我将以上内容转化成简洁、合理、地道且专业的英文注释。\n",
       "\n",
       "---\n"
      ],
      "text/plain": [
       "<IPython.core.display.Markdown object>"
      ]
     },
     "metadata": {},
     "output_type": "display_data"
    },
    {
     "data": {
      "text/markdown": [
       "## 【Answer】"
      ],
      "text/plain": [
       "<IPython.core.display.Markdown object>"
      ]
     },
     "metadata": {},
     "output_type": "display_data"
    },
    {
     "data": {
      "text/markdown": [
       "Support for customizable prompt templates.\n",
       "\n",
       "---\n"
      ],
      "text/plain": [
       "<IPython.core.display.Markdown object>"
      ]
     },
     "metadata": {},
     "output_type": "display_data"
    }
   ],
   "source": [
    "prompt = \"\"\"\n",
    "\"\"\"\n",
    "\n",
    "cm.chat(prompt, start_new=1)"
   ]
  },
  {
   "cell_type": "code",
   "execution_count": 6,
   "id": "4dccea2e-b4cf-46f3-979f-fd35fd80cd34",
   "metadata": {},
   "outputs": [],
   "source": [
    "cm.delete_last_qa()"
   ]
  },
  {
   "cell_type": "code",
   "execution_count": 3,
   "id": "de8662e7-7c95-4852-be4d-25d81127645b",
   "metadata": {},
   "outputs": [
    {
     "name": "stdout",
     "output_type": "stream",
     "text": [
      "Done.\n"
     ]
    }
   ],
   "source": [
    "cm.switch_dialog(10)"
   ]
  },
  {
   "cell_type": "code",
   "execution_count": 1,
   "id": "1c4d6c12-57c8-4cbe-ad3d-a82680131897",
   "metadata": {},
   "outputs": [
    {
     "name": "stdout",
     "output_type": "stream",
     "text": [
      "pua, 命名, 注释, 编程\n"
     ]
    }
   ],
   "source": [
    "from prompts.manager import CustomPrompt\n",
    "\n",
    "CustomPrompt().display_all_templates()"
   ]
  },
  {
   "cell_type": "markdown",
   "id": "1480c474-04eb-4b6b-b80d-ab0aa5e097a6",
   "metadata": {},
   "source": [
    "## 草稿纸"
   ]
  },
  {
   "cell_type": "code",
   "execution_count": null,
   "id": "9fad2782-4d12-4e46-bd48-6bccec4ed320",
   "metadata": {},
   "outputs": [],
   "source": []
  }
 ],
 "metadata": {
  "kernelspec": {
   "display_name": "Python 3 (ipykernel)",
   "language": "python",
   "name": "python3"
  },
  "language_info": {
   "codemirror_mode": {
    "name": "ipython",
    "version": 3
   },
   "file_extension": ".py",
   "mimetype": "text/x-python",
   "name": "python",
   "nbconvert_exporter": "python",
   "pygments_lexer": "ipython3",
   "version": "3.10.12"
  }
 },
 "nbformat": 4,
 "nbformat_minor": 5
}
