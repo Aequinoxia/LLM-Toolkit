{
 "cells": [
  {
   "cell_type": "code",
   "execution_count": 1,
   "id": "5758eccc-01aa-419e-a0b5-63e0d04ca461",
   "metadata": {},
   "outputs": [],
   "source": [
    "from manager import ChatManager\n",
    "\n",
    "cm = ChatManager('spark')"
   ]
  },
  {
   "cell_type": "markdown",
   "id": "55d46fd7-1161-4caf-b191-f36f96b6856b",
   "metadata": {},
   "source": [
    "## 工作区"
   ]
  },
  {
   "cell_type": "code",
   "execution_count": 2,
   "id": "b295052a-47d9-47ca-b3b5-99954a289e89",
   "metadata": {},
   "outputs": [
    {
     "data": {
      "text/markdown": [
       "## 【Query】"
      ],
      "text/plain": [
       "<IPython.core.display.Markdown object>"
      ]
     },
     "metadata": {},
     "output_type": "display_data"
    },
    {
     "data": {
      "text/markdown": [
       "\n",
       "say this is a test.\n",
       "\n",
       "\n",
       "---\n"
      ],
      "text/plain": [
       "<IPython.core.display.Markdown object>"
      ]
     },
     "metadata": {},
     "output_type": "display_data"
    },
    {
     "data": {
      "text/markdown": [
       "## 【Answer】"
      ],
      "text/plain": [
       "<IPython.core.display.Markdown object>"
      ]
     },
     "metadata": {},
     "output_type": "display_data"
    },
    {
     "data": {
      "text/markdown": [
       "Sure, this is a test. How can I assist you?\n",
       "\n",
       "---\n"
      ],
      "text/plain": [
       "<IPython.core.display.Markdown object>"
      ]
     },
     "metadata": {},
     "output_type": "display_data"
    }
   ],
   "source": [
    "prompt = \"\"\"\n",
    "say this is a test.\n",
    "\"\"\"\n",
    "\n",
    "cm.chat(prompt, start_new=1)"
   ]
  },
  {
   "cell_type": "code",
   "execution_count": null,
   "id": "4dccea2e-b4cf-46f3-979f-fd35fd80cd34",
   "metadata": {},
   "outputs": [],
   "source": [
    "cm.delete_last_qa()"
   ]
  },
  {
   "cell_type": "code",
   "execution_count": 72,
   "id": "de8662e7-7c95-4852-be4d-25d81127645b",
   "metadata": {},
   "outputs": [
    {
     "name": "stdout",
     "output_type": "stream",
     "text": [
      "Quit.\n"
     ]
    }
   ],
   "source": [
    "cm.switch_dialog(10)"
   ]
  },
  {
   "cell_type": "markdown",
   "id": "1480c474-04eb-4b6b-b80d-ab0aa5e097a6",
   "metadata": {},
   "source": [
    "## 草稿纸"
   ]
  },
  {
   "cell_type": "code",
   "execution_count": null,
   "id": "ed5a77d3-846b-405b-9802-e9a6301ec1a0",
   "metadata": {},
   "outputs": [],
   "source": []
  }
 ],
 "metadata": {
  "kernelspec": {
   "display_name": "Python 3 (ipykernel)",
   "language": "python",
   "name": "python3"
  },
  "language_info": {
   "codemirror_mode": {
    "name": "ipython",
    "version": 3
   },
   "file_extension": ".py",
   "mimetype": "text/x-python",
   "name": "python",
   "nbconvert_exporter": "python",
   "pygments_lexer": "ipython3",
   "version": "3.10.12"
  }
 },
 "nbformat": 4,
 "nbformat_minor": 5
}
