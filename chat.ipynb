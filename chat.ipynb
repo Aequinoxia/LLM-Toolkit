{
 "cells": [
  {
   "cell_type": "code",
   "execution_count": 1,
   "id": "5758eccc-01aa-419e-a0b5-63e0d04ca461",
   "metadata": {},
   "outputs": [],
   "source": [
    "from manager import ChatManager\n",
    "\n",
    "cm = ChatManager('zhipu')  # zhipu, spark, deepseek"
   ]
  },
  {
   "cell_type": "markdown",
   "id": "55d46fd7-1161-4caf-b191-f36f96b6856b",
   "metadata": {},
   "source": [
    "## 工作区"
   ]
  },
  {
   "cell_type": "code",
   "execution_count": 3,
   "id": "9f82cee2-68a1-4cb9-9e12-1eb6ae7b32ab",
   "metadata": {},
   "outputs": [
    {
     "data": {
      "text/markdown": [
       "<details><summary>【Folded Query】</summary>\n",
       "\n",
       "## 【Query】\n",
       "\n",
       "\n",
       "Hey! A few months ago I was looking for an idea of my next SaaS and couldn't find anything interesting. Then I realized that maybe it makes sense to take a niche that already has a demand and create a product for that niche.\n",
       "\n",
       "After some time I analyzed a lot of different niches and decided to build my own article generator :) I know, sounds boring, but after researching the competition I realized that most of the products in this niche have very limited features and the quality of the content they give is not that good.\n",
       "\n",
       "So, I spent a couple of months building this SaaS that can help you to automate your SEO content creation workflow. You can set up a project in 2 minutes and it will automatically generate and publish content to your website for as long as you want.\n",
       "\n",
       "You can add and organize your keywords, generate eye-catching and SEO-optimized titles, and of course, high quality articles that have images, videos, meta description, tags, etc. You can also create organizations and sub-accounts (for business and agency plans).\n",
       "\n",
       "It has a lot of other features, but it's gonna take too much time describing all of them. I highly suggest you to check it out and am sure you gonna like it.\n",
       "\n",
       "If you have any question or require any specific features, let me know!\n",
       "\n",
       "\n",
       "---\n",
       "\n",
       "I hope you can provide a response to the content mentioned above. To ensure the quality of the response, you need to complete the following three tasks in order:\n",
       "1. Analyze what information, in relation to the above text, might bring value or assistance to the author or other users.\n",
       "2. From the directions you've just listed, select the most helpful and least error-prone perspective, and elaborate on it in approximately 100-200 words.\n",
       "Also, make sure to wrap up your response with a **meaningful** question to boost the chances of getting a reply.3. Please synthesize the results from Task 2 and convert them into a sincere and valuable response of about 100-200 words (make sure the content of the response ends with a question).\n",
       "\n",
       "---\n",
       "\n",
       "</details>"
      ],
      "text/plain": [
       "<IPython.core.display.Markdown object>"
      ]
     },
     "metadata": {},
     "output_type": "display_data"
    },
    {
     "data": {
      "text/markdown": [
       "## 【Answer】"
      ],
      "text/plain": [
       "<IPython.core.display.Markdown object>"
      ]
     },
     "metadata": {},
     "output_type": "display_data"
    },
    {
     "data": {
      "text/markdown": [
       "### Task 1: Analysis of Valuable Information\n",
       "\n",
       "The information provided by the author highlights the development of a new SaaS product aimed at automating SEO content creation. Key points that might bring value or assistance include:\n",
       "\n",
       "1. **Unique Selling Proposition (USP)**: Understanding the unique features that set this product apart from competitors.\n",
       "2. **Target Audience**: Identifying who can benefit most from this tool, such as content creators, SEO professionals, and agencies.\n",
       "3. **User Experience**: Describing how easy it is to set up and use the platform.\n",
       "4. **Customization and Flexibility**: Highlighting the ability to customize content and manage multiple projects or sub-accounts.\n",
       "5. **Feedback and Feature Requests**: Encouraging users to provide feedback or request specific features to improve the product.\n",
       "\n",
       "### Task 2: Selection and Elaboration\n",
       "\n",
       "The most helpful and least error-prone perspective is to focus on the unique features and user experience. This perspective is beneficial because it directly addresses what potential users are most interested in: how the product can solve their specific needs better than existing solutions. Highlighting the ease of use and the ability to generate high-quality, SEO-optimized content quickly can attract users looking for efficient content creation tools.\n",
       "\n",
       "**Elaboration**: Your SaaS product sounds promising, especially with its focus on ease of setup and the quality of generated content. Given the competition's limitations, emphasizing how your tool provides superior content with additional features like image and video integration, meta descriptions, and tags can be a significant advantage. Users are likely to be interested in how your platform streamlines the entire content creation process, from keyword organization to publishing.\n",
       "\n",
       "### Task 3: Synthesis into a Response\n",
       "\n",
       "Your new SaaS for automated SEO content creation sounds incredibly useful, particularly with its focus on ease of setup and high-quality content generation. It's impressive that you've managed to incorporate features like image and video integration, meta descriptions, and tags, which are often overlooked in similar tools. Given the demand for efficient content creation solutions, I'm curious about how you plan to ensure that the generated content maintains a high level of originality and relevance to keep users engaged and satisfied.\n",
       "\n",
       "---\n"
      ],
      "text/plain": [
       "<IPython.core.display.Markdown object>"
      ]
     },
     "metadata": {},
     "output_type": "display_data"
    }
   ],
   "source": [
    "prompt = \"\"\"\n",
    "\"\"\"\n",
    "\n",
    "cm.chat(prompt, start_new=1)"
   ]
  },
  {
   "cell_type": "code",
   "execution_count": null,
   "id": "4dccea2e-b4cf-46f3-979f-fd35fd80cd34",
   "metadata": {},
   "outputs": [],
   "source": [
    "cm.delete_last_qa()"
   ]
  },
  {
   "cell_type": "code",
   "execution_count": 7,
   "id": "de8662e7-7c95-4852-be4d-25d81127645b",
   "metadata": {},
   "outputs": [
    {
     "name": "stdout",
     "output_type": "stream",
     "text": [
      "Done.\n"
     ]
    }
   ],
   "source": [
    "cm.switch_dialog(10)"
   ]
  },
  {
   "cell_type": "code",
   "execution_count": 7,
   "id": "1c4d6c12-57c8-4cbe-ad3d-a82680131897",
   "metadata": {},
   "outputs": [
    {
     "name": "stdout",
     "output_type": "stream",
     "text": [
      "comment, guide, naming, pro\n"
     ]
    }
   ],
   "source": [
    "from prompts.manager import CustomPrompt\n",
    "\n",
    "CustomPrompt().display_all_templates()"
   ]
  },
  {
   "cell_type": "markdown",
   "id": "1480c474-04eb-4b6b-b80d-ab0aa5e097a6",
   "metadata": {},
   "source": [
    "## 草稿纸"
   ]
  },
  {
   "cell_type": "code",
   "execution_count": null,
   "id": "dc13ac0d-4320-43e3-a120-de3df5a07236",
   "metadata": {},
   "outputs": [],
   "source": [
    "!cat ~/.llm_toolkit/engines_config.ini"
   ]
  }
 ],
 "metadata": {
  "kernelspec": {
   "display_name": "Python 3 (ipykernel)",
   "language": "python",
   "name": "python3"
  },
  "language_info": {
   "codemirror_mode": {
    "name": "ipython",
    "version": 3
   },
   "file_extension": ".py",
   "mimetype": "text/x-python",
   "name": "python",
   "nbconvert_exporter": "python",
   "pygments_lexer": "ipython3",
   "version": "3.10.12"
  }
 },
 "nbformat": 4,
 "nbformat_minor": 5
}
